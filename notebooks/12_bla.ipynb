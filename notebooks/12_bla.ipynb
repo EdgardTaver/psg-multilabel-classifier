{
 "cells": [
  {
   "cell_type": "code",
   "execution_count": 1,
   "metadata": {},
   "outputs": [],
   "source": [
    "from skmultilearn.dataset import load_dataset"
   ]
  },
  {
   "cell_type": "code",
   "execution_count": 2,
   "metadata": {},
   "outputs": [
    {
     "name": "stdout",
     "output_type": "stream",
     "text": [
      "birds:undivided - exists, not redownloading\n",
      "birds:train - exists, not redownloading\n",
      "birds:test - exists, not redownloading\n"
     ]
    }
   ],
   "source": [
    "full_data = load_dataset(\"birds\", \"undivided\")\n",
    "train_data = load_dataset(\"birds\", \"train\")\n",
    "test_data = load_dataset(\"birds\", \"test\")\n"
   ]
  },
  {
   "cell_type": "code",
   "execution_count": 6,
   "metadata": {},
   "outputs": [],
   "source": [
    "X_full, y_full, _, _ = full_data"
   ]
  },
  {
   "cell_type": "code",
   "execution_count": 13,
   "metadata": {},
   "outputs": [
    {
     "data": {
      "text/plain": [
       "matrix([[0.016521, 0.039926, 0.089632, 0.134119, 0.17047 ],\n",
       "        [0.0066  , 0.035984, 0.089956, 0.123214, 0.172273],\n",
       "        [0.006894, 0.017722, 0.048062, 0.065802, 0.103443],\n",
       "        [0.031046, 0.127675, 0.221428, 0.272707, 0.358743],\n",
       "        [0.064721, 0.226644, 0.304482, 0.274662, 0.34698 ]])"
      ]
     },
     "execution_count": 13,
     "metadata": {},
     "output_type": "execute_result"
    }
   ],
   "source": [
    "X_full.todense()[:5,:5]"
   ]
  }
 ],
 "metadata": {
  "kernelspec": {
   "display_name": "Python 3",
   "language": "python",
   "name": "python3"
  },
  "language_info": {
   "codemirror_mode": {
    "name": "ipython",
    "version": 3
   },
   "file_extension": ".py",
   "mimetype": "text/x-python",
   "name": "python",
   "nbconvert_exporter": "python",
   "pygments_lexer": "ipython3",
   "version": "3.9.7"
  }
 },
 "nbformat": 4,
 "nbformat_minor": 2
}
