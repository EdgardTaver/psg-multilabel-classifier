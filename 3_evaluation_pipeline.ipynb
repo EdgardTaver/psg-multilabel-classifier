{
 "cells": [
  {
   "cell_type": "markdown",
   "metadata": {},
   "source": [
    "# 3. Evaluation pipeline\n",
    "\n",
    "The initial results for the second model are quite mixed. Actually, they are quite bad in general. But it is a bit hard to understand why its performance is so bad without having a proper evaluation pipeline, that should use cross-validation as a way to mitigate the effects of the randomness of the train-test split.\n",
    "\n",
    "## 3.1. Setup"
   ]
  },
  {
   "cell_type": "code",
   "execution_count": 2,
   "metadata": {},
   "outputs": [],
   "source": [
    "from sklearn.model_selection import KFold, cross_validate\n",
    "from skmultilearn.dataset import load_dataset\n",
    "from skmultilearn.problem_transform import ClassifierChain\n",
    "from sklearn.svm import SVC\n",
    "import sklearn.metrics as metrics\n"
   ]
  },
  {
   "cell_type": "markdown",
   "metadata": {},
   "source": [
    "## 3.2. Experimentation"
   ]
  },
  {
   "cell_type": "code",
   "execution_count": 3,
   "metadata": {},
   "outputs": [
    {
     "name": "stdout",
     "output_type": "stream",
     "text": [
      "scene:undivided - exists, not redownloading\n",
      "scene:train - exists, not redownloading\n",
      "scene:test - exists, not redownloading\n"
     ]
    }
   ],
   "source": [
    "full_data = load_dataset(\"scene\", \"undivided\")\n",
    "train_data = load_dataset(\"scene\", \"train\")\n",
    "test_data = load_dataset(\"scene\", \"test\")\n"
   ]
  },
  {
   "cell_type": "code",
   "execution_count": 4,
   "metadata": {},
   "outputs": [
    {
     "data": {
      "text/plain": [
       "(<1211x294 sparse matrix of type '<class 'numpy.float64'>'\n",
       " \twith 351805 stored elements in List of Lists format>,\n",
       " <1211x6 sparse matrix of type '<class 'numpy.int64'>'\n",
       " \twith 1286 stored elements in List of Lists format>)"
      ]
     },
     "metadata": {},
     "output_type": "display_data"
    },
    {
     "data": {
      "text/plain": [
       "(<1196x294 sparse matrix of type '<class 'numpy.float64'>'\n",
       " \twith 347724 stored elements in List of Lists format>,\n",
       " <1196x6 sparse matrix of type '<class 'numpy.int64'>'\n",
       " \twith 1299 stored elements in List of Lists format>)"
      ]
     },
     "metadata": {},
     "output_type": "display_data"
    },
    {
     "data": {
      "text/plain": [
       "(<2407x294 sparse matrix of type '<class 'numpy.float64'>'\n",
       " \twith 699529 stored elements in List of Lists format>,\n",
       " <2407x6 sparse matrix of type '<class 'numpy.int64'>'\n",
       " \twith 2585 stored elements in List of Lists format>)"
      ]
     },
     "metadata": {},
     "output_type": "display_data"
    }
   ],
   "source": [
    "display(train_data[:2])\n",
    "display(test_data[:2])\n",
    "display(full_data[:2])\n"
   ]
  },
  {
   "cell_type": "markdown",
   "metadata": {},
   "source": [
    "Just a side note here: this dataset is clearly too small. It might explain the wild results we were getting in the second model..\n",
    "\n",
    "Anyway, let's keep going forward with the evaluation pipeline."
   ]
  },
  {
   "cell_type": "code",
   "execution_count": 5,
   "metadata": {},
   "outputs": [],
   "source": [
    "X_full, y_full, _, _ = full_data"
   ]
  },
  {
   "cell_type": "code",
   "execution_count": 6,
   "metadata": {},
   "outputs": [],
   "source": [
    "dense_X_full = X_full.toarray()\n",
    "dense_y_full = y_full.toarray()\n",
    "\n",
    "\n",
    "skf = KFold(n_splits=5)\n",
    "for i, (train_index, test_index) in enumerate(skf.split(dense_X_full, dense_y_full)):\n",
    "    X_train = dense_X_full[train_index]\n",
    "    y_train = dense_y_full[train_index]\n",
    "\n",
    "    X_test = dense_X_full[test_index]\n",
    "    y_test = dense_y_full[test_index]\n"
   ]
  },
  {
   "cell_type": "markdown",
   "metadata": {},
   "source": [
    "**Notice**: `StratifiedKFold` **cannot** be used as it does not support multilabel ([source](https://stackoverflow.com/questions/48508036/sklearn-stratifiedkfold-valueerror-supported-target-types-are-binary-mul)).\n",
    "\n",
    "Instead of trying to set up everything by myself, let's use something that Scikit already provides: the `cross_validate` function, as described [here](https://scikit-learn.org/stable/modules/cross_validation.html#the-cross-validate-function-and-multiple-metric-evaluation)."
   ]
  },
  {
   "cell_type": "code",
   "execution_count": 7,
   "metadata": {},
   "outputs": [],
   "source": [
    "clf = ClassifierChain(\n",
    "    classifier=SVC(),\n",
    "    require_dense=[False, True]\n",
    ")\n",
    "\n",
    "s = {\"accuracy\": make_scorer(metrics.accuracy_score),\n",
    "     \"hamming_loss\": make_scorer(metrics.hamming_loss, greater_is_better=False)}\n",
    "\n",
    "r = cross_validate(clf, X_full, y_full, cv=5, scoring=s, return_train_score=True)\n",
    "r\n"
   ]
  },
  {
   "cell_type": "code",
   "execution_count": 8,
   "metadata": {},
   "outputs": [
    {
     "data": {
      "text/plain": [
       "(0.6319200144926287, 0.06657267886278025)"
      ]
     },
     "execution_count": 8,
     "metadata": {},
     "output_type": "execute_result"
    }
   ],
   "source": [
    "r[\"test_accuracy\"].mean(), r[\"test_accuracy\"].std()"
   ]
  },
  {
   "cell_type": "code",
   "execution_count": 9,
   "metadata": {},
   "outputs": [
    {
     "data": {
      "text/plain": [
       "(-0.11195857523658352, 0.023752236934311968)"
      ]
     },
     "execution_count": 9,
     "metadata": {},
     "output_type": "execute_result"
    }
   ],
   "source": [
    "r[\"test_hamming_loss\"].mean(), r[\"test_hamming_loss\"].std()"
   ]
  },
  {
   "cell_type": "code",
   "execution_count": 10,
   "metadata": {},
   "outputs": [
    {
     "data": {
      "text/plain": [
       "{'fit_time': array([4.06053257, 4.29102755, 3.58891082, 4.0080204 , 3.63190055]),\n",
       " 'score_time': array([0.65458941, 0.65905857, 0.6446743 , 0.67406464, 0.62596703]),\n",
       " 'test_accuracy': array([0.1473029 , 0.39626556, 0.05613306, 0.28274428, 0.3035343 ]),\n",
       " 'train_accuracy': array([0.31324675, 0.20727273, 0.3556594 , 0.26272066, 0.27050883]),\n",
       " 'test_hamming_loss': array([-0.28284924, -0.20020747, -0.31185031, -0.23354123, -0.22903673]),\n",
       " 'train_hamming_loss': array([-0.22995671, -0.26554113, -0.21581862, -0.25034614, -0.24575978])}"
      ]
     },
     "execution_count": 10,
     "metadata": {},
     "output_type": "execute_result"
    }
   ],
   "source": [
    "# quick testing, using the proposed order based on F-test\n",
    "\n",
    "clf2 = ClassifierChain(\n",
    "    classifier=SVC(),\n",
    "    require_dense=[False, True],\n",
    "    order=[3, 0, 2, 5, 4, 1]\n",
    ")\n",
    "\n",
    "s2 = {\"accuracy\": metrics.make_scorer(metrics.accuracy_score),\n",
    "      \"hamming_loss\": metrics.make_scorer(metrics.hamming_loss, greater_is_better=False)}\n",
    "\n",
    "r2 = cross_validate(clf2, X_full, y_full, cv=5,\n",
    "                   scoring=s2, return_train_score=True)\n",
    "r2"
   ]
  },
  {
   "cell_type": "markdown",
   "metadata": {},
   "source": [
    "Ok, the initial results here show that the proposed Classifier Chain is indeed **consistently bad**. Regardless, now I have a better ideia of how to set up this evaluation pipeline, which I should conclude tomorrow."
   ]
  }
 ],
 "metadata": {
  "kernelspec": {
   "display_name": "Python 3",
   "language": "python",
   "name": "python3"
  },
  "language_info": {
   "codemirror_mode": {
    "name": "ipython",
    "version": 3
   },
   "file_extension": ".py",
   "mimetype": "text/x-python",
   "name": "python",
   "nbconvert_exporter": "python",
   "pygments_lexer": "ipython3",
   "version": "3.9.7"
  },
  "orig_nbformat": 4
 },
 "nbformat": 4,
 "nbformat_minor": 2
}
