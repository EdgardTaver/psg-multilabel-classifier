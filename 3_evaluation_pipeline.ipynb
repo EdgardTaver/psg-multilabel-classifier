{
 "cells": [
  {
   "cell_type": "markdown",
   "metadata": {},
   "source": [
    "# 3. Evaluation pipeline\n",
    "\n",
    "The initial results for the second model are quite mixed. Actually, they are quite bad in general. But it is a bit hard to understand why its performance is so bad without having a proper evaluation pipeline, that should use cross-validation as a way to mitigate the effects of the randomness of the train-test split."
   ]
  },
  {
   "cell_type": "code",
   "execution_count": 18,
   "metadata": {},
   "outputs": [],
   "source": [
    "from sklearn.model_selection import StratifiedKFold\n",
    "from sklearn.model_selection import KFold\n",
    "from skmultilearn.dataset import load_dataset\n"
   ]
  },
  {
   "cell_type": "code",
   "execution_count": 3,
   "metadata": {},
   "outputs": [
    {
     "name": "stdout",
     "output_type": "stream",
     "text": [
      "scene:undivided - does not exists downloading\n",
      "Downloaded scene-undivided\n",
      "scene:train - exists, not redownloading\n",
      "scene:test - exists, not redownloading\n"
     ]
    }
   ],
   "source": [
    "full_data = load_dataset(\"scene\", \"undivided\")\n",
    "train_data = load_dataset(\"scene\", \"train\")\n",
    "test_data = load_dataset(\"scene\", \"test\")\n"
   ]
  },
  {
   "cell_type": "code",
   "execution_count": 10,
   "metadata": {},
   "outputs": [
    {
     "data": {
      "text/plain": [
       "(<1211x294 sparse matrix of type '<class 'numpy.float64'>'\n",
       " \twith 351805 stored elements in List of Lists format>,\n",
       " <1211x6 sparse matrix of type '<class 'numpy.int64'>'\n",
       " \twith 1286 stored elements in List of Lists format>)"
      ]
     },
     "metadata": {},
     "output_type": "display_data"
    },
    {
     "data": {
      "text/plain": [
       "(<1196x294 sparse matrix of type '<class 'numpy.float64'>'\n",
       " \twith 347724 stored elements in List of Lists format>,\n",
       " <1196x6 sparse matrix of type '<class 'numpy.int64'>'\n",
       " \twith 1299 stored elements in List of Lists format>)"
      ]
     },
     "metadata": {},
     "output_type": "display_data"
    },
    {
     "data": {
      "text/plain": [
       "(<2407x294 sparse matrix of type '<class 'numpy.float64'>'\n",
       " \twith 699529 stored elements in List of Lists format>,\n",
       " <2407x6 sparse matrix of type '<class 'numpy.int64'>'\n",
       " \twith 2585 stored elements in List of Lists format>)"
      ]
     },
     "metadata": {},
     "output_type": "display_data"
    }
   ],
   "source": [
    "display(train_data[:2])\n",
    "display(test_data[:2])\n",
    "display(full_data[:2])\n"
   ]
  },
  {
   "cell_type": "markdown",
   "metadata": {},
   "source": [
    "Just a side note here: this dataset is clearly too small. It might explain the wild results we were getting in the second model..\n",
    "\n",
    "Anyway, let's keep going forward with the evaluation pipeline."
   ]
  },
  {
   "cell_type": "code",
   "execution_count": 12,
   "metadata": {},
   "outputs": [],
   "source": [
    "X_full, y_full, _, _ = full_data\n"
   ]
  },
  {
   "cell_type": "code",
   "execution_count": 21,
   "metadata": {},
   "outputs": [
    {
     "name": "stdout",
     "output_type": "stream",
     "text": [
      "Fold 0\n",
      "TRAIN: 1925 TEST: 482\n",
      "Fold 1\n",
      "TRAIN: 1925 TEST: 482\n",
      "Fold 2\n",
      "TRAIN: 1926 TEST: 481\n",
      "Fold 3\n",
      "TRAIN: 1926 TEST: 481\n",
      "Fold 4\n",
      "TRAIN: 1926 TEST: 481\n"
     ]
    }
   ],
   "source": [
    "dense_X_full = X_full.toarray()\n",
    "dense_y_full = y_full.toarray()\n",
    "\n",
    "\n",
    "skf = KFold(n_splits=5)\n",
    "for i, (train_index, test_index) in enumerate(skf.split(dense_X_full, dense_y_full)):\n",
    "    X_train = dense_X_full[train_index]\n",
    "    y_train = dense_y_full[train_index]\n",
    "\n",
    "    X_test = dense_X_full[test_index]\n",
    "    y_test = dense_y_full[test_index]\n",
    "\n",
    "    \n"
   ]
  },
  {
   "cell_type": "markdown",
   "metadata": {},
   "source": [
    "**Notice**: `StratifiedKFold` **cannot** be used as it does not support multilabel ([source](https://stackoverflow.com/questions/48508036/sklearn-stratifiedkfold-valueerror-supported-target-types-are-binary-mul))."
   ]
  },
  {
   "cell_type": "code",
   "execution_count": 34,
   "metadata": {},
   "outputs": [],
   "source": [
    "from sklearn.model_selection import cross_val_score\n",
    "from sklearn.model_selection import cross_validate\n",
    "from sklearn.metrics import make_scorer\n",
    "from skmultilearn.problem_transform import ClassifierChain\n",
    "from sklearn.svm import SVC\n",
    "import sklearn.metrics as metrics\n"
   ]
  },
  {
   "cell_type": "code",
   "execution_count": 38,
   "metadata": {},
   "outputs": [],
   "source": [
    "clf = ClassifierChain(\n",
    "    classifier=SVC(),\n",
    "    require_dense=[False, True]\n",
    ")\n",
    "\n",
    "s = {\"accuracy\": make_scorer(metrics.accuracy_score),\n",
    "     \"hamming_loss\": make_scorer(metrics.hamming_loss, greater_is_better=False)}\n",
    "\n",
    "r = cross_validate(clf, X_full, y_full, cv=5, scoring=s, return_train_score=True)\n"
   ]
  },
  {
   "cell_type": "code",
   "execution_count": 40,
   "metadata": {},
   "outputs": [
    {
     "data": {
      "text/plain": [
       "{'fit_time': array([6.38895631, 5.47674799, 3.91034126, 4.25431085, 3.89205217]),\n",
       " 'score_time': array([0.90128756, 0.72894812, 0.67406583, 0.93108773, 0.71495819]),\n",
       " 'test_accuracy': array([0.60788382, 0.62448133, 0.56340956, 0.75883576, 0.6049896 ]),\n",
       " 'train_accuracy': array([0.7974026 , 0.79792208, 0.80425753, 0.78971963, 0.80685358]),\n",
       " 'test_hamming_loss': array([-0.12275242, -0.11687414, -0.13513514, -0.06618157, -0.11884962]),\n",
       " 'train_hamming_loss': array([-0.05809524, -0.05800866, -0.05304604, -0.06022845, -0.05209415])}"
      ]
     },
     "execution_count": 40,
     "metadata": {},
     "output_type": "execute_result"
    }
   ],
   "source": [
    "r"
   ]
  },
  {
   "cell_type": "code",
   "execution_count": 39,
   "metadata": {},
   "outputs": [
    {
     "data": {
      "text/plain": [
       "(0.6319200144926287, 0.06657267886278025)"
      ]
     },
     "execution_count": 39,
     "metadata": {},
     "output_type": "execute_result"
    }
   ],
   "source": [
    "r[\"test_accuracy\"].mean(), r[\"test_accuracy\"].std()"
   ]
  },
  {
   "cell_type": "code",
   "execution_count": 42,
   "metadata": {},
   "outputs": [
    {
     "data": {
      "text/plain": [
       "(-0.11195857523658352, 0.023752236934311968)"
      ]
     },
     "execution_count": 42,
     "metadata": {},
     "output_type": "execute_result"
    }
   ],
   "source": [
    "r[\"test_hamming_loss\"].mean(), r[\"test_hamming_loss\"].std()"
   ]
  },
  {
   "cell_type": "code",
   "execution_count": 43,
   "metadata": {},
   "outputs": [],
   "source": [
    "clf2 = ClassifierChain(\n",
    "    classifier=SVC(),\n",
    "    require_dense=[False, True],\n",
    "    order=[3, 0, 2, 5, 4, 1]\n",
    ")\n",
    "\n",
    "s2 = {\"accuracy\": make_scorer(metrics.accuracy_score),\n",
    "     \"hamming_loss\": make_scorer(metrics.hamming_loss, greater_is_better=False)}\n",
    "\n",
    "r2 = cross_validate(clf2, X_full, y_full, cv=5,\n",
    "                   scoring=s2, return_train_score=True)\n"
   ]
  },
  {
   "cell_type": "code",
   "execution_count": 44,
   "metadata": {},
   "outputs": [
    {
     "data": {
      "text/plain": [
       "{'fit_time': array([4.16601849, 4.84276986, 4.13891101, 4.2367835 , 3.85717344]),\n",
       " 'score_time': array([0.69529414, 0.74412417, 0.69608188, 0.70389557, 0.64631033]),\n",
       " 'test_accuracy': array([0.1473029 , 0.39626556, 0.05613306, 0.28274428, 0.3035343 ]),\n",
       " 'train_accuracy': array([0.31324675, 0.20727273, 0.3556594 , 0.26272066, 0.27050883]),\n",
       " 'test_hamming_loss': array([-0.28284924, -0.20020747, -0.31185031, -0.23354123, -0.22903673]),\n",
       " 'train_hamming_loss': array([-0.22995671, -0.26554113, -0.21581862, -0.25034614, -0.24575978])}"
      ]
     },
     "execution_count": 44,
     "metadata": {},
     "output_type": "execute_result"
    }
   ],
   "source": [
    "r2"
   ]
  },
  {
   "cell_type": "markdown",
   "metadata": {},
   "source": [
    "Ok, the initial results here show that the proposed Classifier Chain is indeed consistently bad. Regardless, now I have a better ideia of how to set up this evaluation pipeline, which I should conclude tomorrow."
   ]
  },
  {
   "cell_type": "markdown",
   "metadata": {},
   "source": []
  }
 ],
 "metadata": {
  "kernelspec": {
   "display_name": "Python 3",
   "language": "python",
   "name": "python3"
  },
  "language_info": {
   "codemirror_mode": {
    "name": "ipython",
    "version": 3
   },
   "file_extension": ".py",
   "mimetype": "text/x-python",
   "name": "python",
   "nbconvert_exporter": "python",
   "pygments_lexer": "ipython3",
   "version": "3.9.7"
  },
  "orig_nbformat": 4
 },
 "nbformat": 4,
 "nbformat_minor": 2
}
