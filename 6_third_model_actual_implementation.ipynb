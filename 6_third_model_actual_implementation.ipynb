{
 "cells": [
  {
   "cell_type": "code",
   "execution_count": 21,
   "metadata": {},
   "outputs": [],
   "source": [
    "from skmultilearn.dataset import load_dataset\n",
    "import numpy as np\n",
    "from skmultilearn.problem_transform import ClassifierChain\n",
    "import pygad\n",
    "from typing import List\n",
    "import sklearn.metrics as metrics\n",
    "from typing import Any\n",
    "import copy\n",
    "from sklearn.ensemble import RandomForestClassifier"
   ]
  },
  {
   "cell_type": "code",
   "execution_count": 8,
   "metadata": {},
   "outputs": [
    {
     "name": "stdout",
     "output_type": "stream",
     "text": [
      "getting dataset `scene`\n",
      "scene:undivided - exists, not redownloading\n",
      "scene:train - exists, not redownloading\n",
      "scene:test - exists, not redownloading\n",
      "getting dataset `emotions`\n",
      "emotions:undivided - exists, not redownloading\n",
      "emotions:train - exists, not redownloading\n",
      "emotions:test - exists, not redownloading\n",
      "getting dataset `birds`\n",
      "birds:undivided - exists, not redownloading\n",
      "birds:train - exists, not redownloading\n",
      "birds:test - exists, not redownloading\n",
      "===\n",
      "information for dataset `scene`\n",
      "rows: 2407, labels: 6\n",
      "===\n",
      "information for dataset `emotions`\n",
      "rows: 593, labels: 6\n",
      "===\n",
      "information for dataset `birds`\n",
      "rows: 645, labels: 19\n"
     ]
    }
   ],
   "source": [
    "desired_datasets = [\"scene\", \"emotions\", \"birds\"]\n",
    "\n",
    "datasets = {}\n",
    "for dataset_name in desired_datasets:\n",
    "    print(f\"getting dataset `{dataset_name}`\")\n",
    "    \n",
    "    full_dataset = load_dataset(dataset_name, \"undivided\")\n",
    "    X, y, _, _ = full_dataset\n",
    "\n",
    "    train_dataset = load_dataset(dataset_name, \"train\")\n",
    "    X_train, y_train, _, _ = train_dataset\n",
    "\n",
    "    test_dataset = load_dataset(dataset_name, \"test\")\n",
    "    X_test, y_test, _, _ = test_dataset\n",
    "\n",
    "    datasets[dataset_name] = {\n",
    "        \"X\": X,\n",
    "        \"y\": y,\n",
    "        \"X_train\": X_train,\n",
    "        \"y_train\": y_train,\n",
    "        \"X_test\": X_test,\n",
    "        \"y_test\": y_test,\n",
    "        \"rows\": X.shape[0],\n",
    "        \"labels_count\": y.shape[1]\n",
    "    }\n",
    "\n",
    "\n",
    "for name, info in datasets.items():\n",
    "    print(\"===\")\n",
    "    print(f\"information for dataset `{name}`\")\n",
    "    print(f\"rows: {info['rows']}, labels: {info['labels_count']}\")\n"
   ]
  },
  {
   "cell_type": "code",
   "execution_count": 4,
   "metadata": {},
   "outputs": [],
   "source": [
    "def has_duplicates(int_list: List[int]) -> bool:\n",
    "    seen = set()\n",
    "    for num in int_list:\n",
    "        if num in seen:\n",
    "            return True\n",
    "        seen.add(num)\n",
    "    return False\n",
    "\n",
    "def has_negatives(int_list: List[int]) -> bool:\n",
    "    for num in int_list:\n",
    "        if num < 0:\n",
    "            return True\n",
    "    return False"
   ]
  },
  {
   "cell_type": "code",
   "execution_count": 29,
   "metadata": {},
   "outputs": [],
   "source": [
    "class GeneticAlgorithmForMultiLabel:\n",
    "    random_state: int\n",
    "\n",
    "    def __init__(self, base_classifier: Any, random_state: int) -> None:\n",
    "        self.random_state = random_state\n",
    "        # TODO: later check if we should have a way to avoid setting random state\n",
    "        # or just do it randomly\n",
    "\n",
    "        self.base_classifier = base_classifier\n",
    "\n",
    "        self.X_train = None\n",
    "        self.y_train = None\n",
    "        self.X_test = None\n",
    "        self.y_test = None\n",
    "    \n",
    "    def run(self, X_train: Any, y_train: Any, X_test: Any, y_test: Any):\n",
    "        self.X_train = X_train\n",
    "        self.y_train = y_train\n",
    "        self.X_test = X_test\n",
    "        self.y_test = y_test\n",
    "\n",
    "        label_space = np.arange(y_train.shape[1])\n",
    "\n",
    "        ga_model = pygad.GA( #type:ignore\n",
    "            gene_type=int,\n",
    "            gene_space=label_space,\n",
    "            random_seed=self.random_state,\n",
    "            save_best_solutions=False,\n",
    "            fitness_func=self.model_fitness_func,\n",
    "            allow_duplicate_genes=False, # very important, otherwise we will have duplicate labels in the ordering\n",
    "            num_genes=len(label_space),\n",
    "\n",
    "            # set up\n",
    "            num_generations=10,\n",
    "            num_parents_mating=2,\n",
    "            sol_per_pop=4,\n",
    "\n",
    "            # following what the article describes\n",
    "            keep_elitism=1, # also following what the article describes, but we have to double check [TODO]\n",
    "            parent_selection_type=\"rws\", # following what the article describes\n",
    "            # mutation_probability=0.005, # following what the article describes\n",
    "\n",
    "            # TODO let's check how the article defines this\n",
    "            crossover_type=\"scattered\",\n",
    "            mutation_type=\"random\",\n",
    "            mutation_by_replacement=True,\n",
    "            mutation_num_genes=1,\n",
    "        )\n",
    "\n",
    "        ga_model.run()\n",
    "\n",
    "        solution, _, _ = ga_model.best_solution()\n",
    "\n",
    "        best_classifier = ClassifierChain(\n",
    "            classifier=copy.deepcopy(self.base_classifier),\n",
    "            require_dense=[False, True],\n",
    "            order=solution,\n",
    "        )\n",
    "\n",
    "        best_classifier.fit(self.X_train, self.y_train)\n",
    "        return best_classifier\n",
    "        \n",
    "    def model_fitness_func(self, ga_instance: Any, solution: Any, solution_idx: Any) -> float:\n",
    "        if has_duplicates(solution):\n",
    "            print(\"solutions contains duplicated values, skipping\")\n",
    "            return 0\n",
    "        \n",
    "        if has_negatives(solution):\n",
    "            print(\"solutions contains negative values, skipping\")\n",
    "            return 0\n",
    "\n",
    "        hamming_loss = self.test_ordering(solution)\n",
    "        return 1/hamming_loss\n",
    "        # this will be the fitness function result, and we want to maximize it\n",
    "        # therefore, we have to return the inverse of the hamming loss\n",
    "    \n",
    "    def test_ordering(self, solution: List[int]):\n",
    "        print(f\"testing order: {solution}\")\n",
    "\n",
    "        classifier = ClassifierChain(\n",
    "            classifier=copy.deepcopy(self.base_classifier),\n",
    "            require_dense=[False, True],\n",
    "            order=solution,\n",
    "        )\n",
    "\n",
    "        classifier.fit(self.X_train, self.y_train)\n",
    "        preds = classifier.predict(self.X_test)\n",
    "\n",
    "        return metrics.hamming_loss(self.y_test, preds)\n",
    "\n"
   ]
  },
  {
   "cell_type": "code",
   "execution_count": 30,
   "metadata": {},
   "outputs": [
    {
     "name": "stdout",
     "output_type": "stream",
     "text": [
      "testing order: [3 4 2 0 5 1]\n",
      "testing order: [2 5 1 4 3 0]\n",
      "testing order: [5 4 1 3 0 2]\n",
      "testing order: [1 3 4 0 2 5]\n",
      "testing order: [1 4 2 0 3 5]\n",
      "testing order: [3 1 2 0 5 4]\n",
      "testing order: [1 3 2 0 4 5]\n",
      "testing order: [1 4 2 0 5 3]\n",
      "testing order: [4 1 2 0 5 3]\n",
      "testing order: [1 4 3 0 2 5]\n",
      "testing order: [4 1 2 0 5 3]\n",
      "testing order: [1 3 2 0 5 4]\n",
      "testing order: [1 3 2 0 5 4]\n",
      "testing order: [1 4 2 0 5 3]\n",
      "testing order: [1 3 5 0 2 4]\n",
      "testing order: [2 1 3 0 5 4]\n",
      "testing order: [1 3 0 2 5 4]\n",
      "testing order: [3 2 1 0 5 4]\n",
      "testing order: [3 2 1 0 5 4]\n"
     ]
    },
    {
     "data": {
      "text/plain": [
       "ClassifierChain(classifier=RandomForestClassifier(random_state=42),\n",
       "                order=array([3, 1, 2, 0, 5, 4]), require_dense=[False, True])"
      ]
     },
     "execution_count": 30,
     "metadata": {},
     "output_type": "execute_result"
    }
   ],
   "source": [
    "m = GeneticAlgorithmForMultiLabel(\n",
    "    base_classifier=RandomForestClassifier(random_state=42),\n",
    "    random_state=42,\n",
    ")\n",
    "r = m.run(datasets[\"scene\"][\"X_train\"], datasets[\"scene\"][\"y_train\"], datasets[\"scene\"][\"X_test\"], datasets[\"scene\"][\"y_test\"])\n",
    "r"
   ]
  },
  {
   "cell_type": "code",
   "execution_count": 33,
   "metadata": {},
   "outputs": [
    {
     "name": "stdout",
     "output_type": "stream",
     "text": [
      "0.205685618729097\n",
      "0.31301095162100195\n"
     ]
    }
   ],
   "source": [
    "preds = r.predict(datasets[\"scene\"][\"X_test\"])\n",
    "\n",
    "print(metrics.hamming_loss(datasets[\"scene\"][\"y_test\"], preds))\n",
    "print(metrics.f1_score(datasets[\"scene\"][\"y_test\"], preds, average=\"macro\"))"
   ]
  }
 ],
 "metadata": {
  "kernelspec": {
   "display_name": "Python 3",
   "language": "python",
   "name": "python3"
  },
  "language_info": {
   "codemirror_mode": {
    "name": "ipython",
    "version": 3
   },
   "file_extension": ".py",
   "mimetype": "text/x-python",
   "name": "python",
   "nbconvert_exporter": "python",
   "pygments_lexer": "ipython3",
   "version": "3.9.7"
  }
 },
 "nbformat": 4,
 "nbformat_minor": 2
}
