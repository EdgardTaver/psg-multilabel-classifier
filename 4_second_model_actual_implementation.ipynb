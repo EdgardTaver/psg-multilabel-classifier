{
 "cells": [
  {
   "cell_type": "code",
   "execution_count": 63,
   "metadata": {},
   "outputs": [],
   "source": [
    "from support import CalculateLabelsCorrelationWithFTest\n",
    "from skmultilearn.dataset import load_dataset\n",
    "from skmultilearn.base.problem_transformation import ProblemTransformationBase\n",
    "from typing import Any, List\n",
    "import numpy as np\n",
    "from skmultilearn.problem_transform import ClassifierChain\n",
    "from sklearn.svm import SVC\n",
    "from evaluation import EvaluationPipeline"
   ]
  },
  {
   "cell_type": "code",
   "execution_count": 58,
   "metadata": {},
   "outputs": [
    {
     "name": "stdout",
     "output_type": "stream",
     "text": [
      "scene:undivided - does not exists downloading\n",
      "Downloaded scene-undivided\n"
     ]
    }
   ],
   "source": [
    "full_data = load_dataset(\"scene\", \"undivided\")\n",
    "X_full, y_full, _, _ = full_data"
   ]
  },
  {
   "cell_type": "code",
   "execution_count": 39,
   "metadata": {},
   "outputs": [
    {
     "data": {
      "text/plain": [
       "[5, 4, 1, 0, 2, 3]"
      ]
     },
     "execution_count": 39,
     "metadata": {},
     "output_type": "execute_result"
    }
   ],
   "source": [
    "def build_chain_based_on_f_test(res):\n",
    "    chain = []\n",
    "    sorted_res = res.sort_values(by=[\"f_test_result\"], ascending=False)\n",
    "    \n",
    "    element = int(sorted_res.iloc[0][\"for_label\"])\n",
    "    chain.append(element)\n",
    "\n",
    "    m = ~sorted_res[\"expand_this_label\"].isin(chain)\n",
    "    m &= sorted_res[\"for_label\"] == element\n",
    "    \n",
    "    while m.sum() > 0:\n",
    "        sliced_res = sorted_res[m]\n",
    "        sorted_sliced_res = sliced_res.sort_values(by=[\"f_test_result\"], ascending=False)\n",
    "\n",
    "        element = int(sorted_sliced_res.iloc[0][\"expand_this_label\"])\n",
    "        chain.append(element)\n",
    "\n",
    "        m = ~sorted_res[\"expand_this_label\"].isin(chain)\n",
    "        m &= sorted_res[\"for_label\"] == element\n",
    "    \n",
    "    return chain\n",
    "\n",
    "build_chain_based_on_f_test(res)\n"
   ]
  },
  {
   "cell_type": "code",
   "execution_count": 73,
   "metadata": {},
   "outputs": [],
   "source": [
    "class ClassifierChainWithFTestOrdering(ProblemTransformationBase):\n",
    "    def __init__(\n",
    "        self,\n",
    "        alpha: float = 0.5,\n",
    "    ):\n",
    "        self.calculator = CalculateLabelsCorrelationWithFTest(alpha=alpha)\n",
    "    \n",
    "    def fit(self, X: Any, y: Any):\n",
    "        self.classes_ = y.shape[1]\n",
    "\n",
    "        ordered_chain = build_chain_based_on_f_test(self.calculator.get(y))\n",
    "        \n",
    "        self.classifier = ClassifierChain(\n",
    "            classifier=SVC(),\n",
    "            require_dense=[False, True],\n",
    "            order=ordered_chain,\n",
    "        )\n",
    "\n",
    "        self.classifier.fit(X, y)\n",
    "    \n",
    "    def predict(self, X: Any) -> np.ndarray[Any,Any]:\n",
    "        return self.classifier.predict(X)\n"
   ]
  },
  {
   "cell_type": "code",
   "execution_count": 75,
   "metadata": {},
   "outputs": [],
   "source": [
    "model = ClassifierChainWithFTestOrdering(alpha=1)\n",
    "# model.fit(X_full, y_full)"
   ]
  },
  {
   "cell_type": "code",
   "execution_count": 77,
   "metadata": {},
   "outputs": [],
   "source": [
    "pipe = EvaluationPipeline(model)\n",
    "pipe.run(X_full, y_full)\n",
    "\n",
    "# TODO: can't use the model with the evaluation pipeline as it is missing some base attrs\n",
    "# have to check what is going onn"
   ]
  },
  {
   "cell_type": "code",
   "execution_count": null,
   "metadata": {},
   "outputs": [],
   "source": []
  }
 ],
 "metadata": {
  "kernelspec": {
   "display_name": "default_python",
   "language": "python",
   "name": "python3"
  },
  "language_info": {
   "codemirror_mode": {
    "name": "ipython",
    "version": 3
   },
   "file_extension": ".py",
   "mimetype": "text/x-python",
   "name": "python",
   "nbconvert_exporter": "python",
   "pygments_lexer": "ipython3",
   "version": "3.11.1"
  },
  "orig_nbformat": 4
 },
 "nbformat": 4,
 "nbformat_minor": 2
}
