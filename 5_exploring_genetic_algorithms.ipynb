{
 "cells": [
  {
   "cell_type": "markdown",
   "metadata": {},
   "source": [
    "# 5. Exploring genetic algorithms\n",
    "\n",
    "Let's explore existing genetic algorithms implementations in Python, and then use them in a new third model.\n",
    "\n",
    "## 5.1. Search\n",
    "\n",
    "[This Google search was conducted](https://www.google.com/search?q=python+genetic+algorithm&sca_esv=576325651&ei=e3E4ZfXZGLzN1sQPnv-KyAg&ved=0ahUKEwi1g-WMiJCCAxW8ppUCHZ6_AokQ4dUDCBA&uact=5&oq=python+genetic+algorithm&gs_lp=Egxnd3Mtd2l6LXNlcnAiGHB5dGhvbiBnZW5ldGljIGFsZ29yaXRobTIFEAAYgAQyBRAAGIAEMgYQABgHGB4yBhAAGAcYHjIGEAAYBxgeMgYQABgHGB4yBhAAGAcYHjIEEAAYHjIEEAAYHjIEEAAYHkjkEVCAC1iMDnABeAGQAQCYAYgBoAHlBaoBAzAuNrgBA8gBAPgBAcICChAAGEcY1gQYsAPiAwQYACBBiAYBkAYI&sclient=gws-wiz-serp) on 2023-10-24. The following libraries were found:\n",
    "\n",
    "* [PyGAD](https://pygad.readthedocs.io/en/latest/)\n",
    "* [geneticalgorithm](https://pygad.readthedocs.io/en/latest/)\n",
    "\n",
    "**The first one seems to be more complete**. Let's try it.\n",
    "\n",
    "## 5.2. Exploring\n",
    "\n",
    "The next cells are simply replicating the step-by-step tutorial available [here](https://pygad.readthedocs.io/en/latest/).\n",
    "\n",
    "As a supporting material, we also have [this article](https://www.linkedin.com/pulse/genetic-algorithm-implementation-python-ahmed-gad/), which was found on [the main github repository](https://github.com/ahmedfgad/GeneticAlgorithmPython)."
   ]
  },
  {
   "cell_type": "code",
   "execution_count": 8,
   "metadata": {},
   "outputs": [],
   "source": [
    "import pygad\n",
    "import numpy as np"
   ]
  },
  {
   "cell_type": "code",
   "execution_count": 9,
   "metadata": {},
   "outputs": [],
   "source": [
    "function_inputs = [4,-2,3.5,5,-11,-4.7]\n",
    "desired_output = 44"
   ]
  },
  {
   "cell_type": "code",
   "execution_count": 10,
   "metadata": {},
   "outputs": [],
   "source": [
    "def fitness_func(ga_instance, solution, solution_idx):\n",
    "    output = np.sum(solution*function_inputs)\n",
    "    fitness = 1.0 / np.abs(output - desired_output)\n",
    "    return fitness"
   ]
  },
  {
   "cell_type": "code",
   "execution_count": 11,
   "metadata": {},
   "outputs": [],
   "source": [
    "fitness_function = fitness_func\n",
    "\n",
    "num_generations = 50\n",
    "num_parents_mating = 6\n",
    "\n",
    "sol_per_pop = 8\n",
    "num_genes = len(function_inputs)\n",
    "\n",
    "init_range_low = -2\n",
    "init_range_high = 5\n",
    "\n",
    "parent_selection_type = \"sss\"\n",
    "keep_parents = 1\n",
    "\n",
    "crossover_type = \"single_point\"\n",
    "\n",
    "mutation_type = \"random\"\n",
    "mutation_percent_genes = 10"
   ]
  },
  {
   "cell_type": "code",
   "execution_count": 12,
   "metadata": {},
   "outputs": [],
   "source": [
    "ga_instance = pygad.GA(num_generations=num_generations,\n",
    "                       num_parents_mating=num_parents_mating,\n",
    "                       fitness_func=fitness_function,\n",
    "                       sol_per_pop=sol_per_pop,\n",
    "                       num_genes=num_genes,\n",
    "                       init_range_low=init_range_low,\n",
    "                       init_range_high=init_range_high,\n",
    "                       parent_selection_type=parent_selection_type,\n",
    "                       keep_parents=keep_parents,\n",
    "                       crossover_type=crossover_type,\n",
    "                       mutation_type=mutation_type,\n",
    "                       mutation_percent_genes=mutation_percent_genes)"
   ]
  },
  {
   "cell_type": "code",
   "execution_count": 13,
   "metadata": {},
   "outputs": [],
   "source": [
    "ga_instance.run()"
   ]
  },
  {
   "cell_type": "code",
   "execution_count": 14,
   "metadata": {},
   "outputs": [
    {
     "data": {
      "text/plain": [
       "(array([ 5.24680389,  2.69237915,  2.0472913 ,  2.13605876, -0.93215016,\n",
       "        -0.06155446]),\n",
       " 114.00285328618179,\n",
       " 0)"
      ]
     },
     "execution_count": 14,
     "metadata": {},
     "output_type": "execute_result"
    }
   ],
   "source": [
    "ga_instance.best_solution()"
   ]
  },
  {
   "cell_type": "code",
   "execution_count": 15,
   "metadata": {},
   "outputs": [
    {
     "name": "stdout",
     "output_type": "stream",
     "text": [
      "Parameters of the best solution : [ 5.24680389  2.69237915  2.0472913   2.13605876 -0.93215016 -0.06155446]\n",
      "Fitness value of the best solution = 114.00285328618179\n",
      "Predicted output based on the best solution : 43.99122828972105\n"
     ]
    }
   ],
   "source": [
    "solution, solution_fitness, solution_idx = ga_instance.best_solution()\n",
    "print(\"Parameters of the best solution : {solution}\".format(solution=solution))\n",
    "print(\"Fitness value of the best solution = {solution_fitness}\".format(solution_fitness=solution_fitness))\n",
    "\n",
    "prediction = np.sum(np.array(function_inputs)*solution)\n",
    "print(\"Predicted output based on the best solution : {prediction}\".format(prediction=prediction))"
   ]
  },
  {
   "cell_type": "code",
   "execution_count": 16,
   "metadata": {},
   "outputs": [
    {
     "name": "stderr",
     "output_type": "stream",
     "text": [
      "No handles with labels found to put in legend.\n"
     ]
    },
    {
     "data": {
      "image/png": "[encoded data removed]",
      "text/plain": [
       "<Figure size 432x288 with 1 Axes>"
      ]
     },
     "metadata": {
      "needs_background": "light"
     },
     "output_type": "display_data"
    },
    {
     "data": {
      "image/png": "[encoded data removed]",
      "text/plain": [
       "<Figure size 432x288 with 1 Axes>"
      ]
     },
     "execution_count": 16,
     "metadata": {},
     "output_type": "execute_result"
    }
   ],
   "source": [
    "ga_instance.plot_fitness()"
   ]
  },
  {
   "cell_type": "markdown",
   "metadata": {},
   "source": [
    "## 5.3. Doing the model\n",
    "\n",
    "Ok, the code seems simple enough. Let's try to implement it in our model."
   ]
  },
  {
   "cell_type": "code",
   "execution_count": 17,
   "metadata": {},
   "outputs": [],
   "source": [
    "from skmultilearn.problem_transform import ClassifierChain\n",
    "from skmultilearn.dataset import load_dataset\n",
    "from sklearn.svm import SVC\n",
    "from typing import List, Any, Dict\n",
    "import numpy as np\n",
    "import sklearn.metrics as metrics\n",
    "import pandas as pd\n",
    "from sklearn.feature_selection import f_classif\n"
   ]
  },
  {
   "cell_type": "code",
   "execution_count": 18,
   "metadata": {},
   "outputs": [
    {
     "name": "stdout",
     "output_type": "stream",
     "text": [
      "scene:train - exists, not redownloading\n",
      "scene:test - exists, not redownloading\n",
      "Accuracy score:  0.6780936454849499\n",
      "Hamming loss:  7.099327265532251\n"
     ]
    }
   ],
   "source": [
    "train_data = load_dataset(\"scene\", \"train\")\n",
    "test_data = load_dataset(\"scene\", \"test\")\n",
    "# let's use the same \"scene\" dataset, that was used in the previous notebook (`1_first_model_experiments.ipynb`)\n",
    "\n",
    "X_train, y_train, _, _ = train_data\n",
    "X_test, y_test, _, _ = test_data\n",
    "\n",
    "classifier = ClassifierChain(\n",
    "    classifier=SVC(),\n",
    "    require_dense=[False, True]\n",
    ")\n",
    "\n",
    "classifier.fit(X_train, y_train)\n",
    "predictions = classifier.predict(X_test)\n",
    "\n",
    "baseline_cc_accuracy = metrics.accuracy_score(y_test, predictions)\n",
    "baseline_cc_hamming_loss = metrics.hamming_loss(y_test, predictions)\n",
    "\n",
    "print(\"Accuracy score: \", baseline_cc_accuracy)\n",
    "print(\"Hamming loss: \", 1/(baseline_cc_hamming_loss+0.05))"
   ]
  },
  {
   "cell_type": "code",
   "execution_count": 19,
   "metadata": {},
   "outputs": [],
   "source": [
    "X_train, y_train, _, _ = train_data\n",
    "X_test, y_test, _, _ = test_data\n",
    "\n",
    "labels_count = y_test.shape[1]\n",
    "\n",
    "def has_duplicates(int_list):\n",
    "    seen = set()\n",
    "    for num in int_list:\n",
    "        if num in seen:\n",
    "            return True\n",
    "        seen.add(num)\n",
    "    return False\n",
    "\n",
    "def has_negatives(int_list):\n",
    "    for num in int_list:\n",
    "        if num < 0:\n",
    "            return True\n",
    "    return False\n",
    "\n",
    "def test_ordering(order: List[int]) -> float:\n",
    "    print(f\"testing order: {order}\")\n",
    "\n",
    "    classifier = ClassifierChain(\n",
    "        classifier=SVC(),\n",
    "        require_dense=[False, True],\n",
    "        order=order,\n",
    "    )\n",
    "\n",
    "    classifier.fit(X_train, y_train)\n",
    "    preds = classifier.predict(X_test)\n",
    "\n",
    "    hamming_loss = metrics.hamming_loss(\n",
    "        y_test, preds)\n",
    "\n",
    "    return hamming_loss\n"
   ]
  },
  {
   "cell_type": "code",
   "execution_count": 20,
   "metadata": {},
   "outputs": [],
   "source": [
    "def model_fitness_func(ga_instance, solution, solution_idx):\n",
    "    if has_duplicates(solution):\n",
    "        print(\"solutions contains duplicated values, skipping\")\n",
    "        return 0\n",
    "    \n",
    "    if has_negatives(solution):\n",
    "        print(\"solutions contains negative values, skipping\")\n",
    "        return 0\n",
    "\n",
    "    hamming_loss = test_ordering(solution)\n",
    "    return 1/hamming_loss\n",
    "    # this will be the fitness function result, and we want to maximize it\n",
    "    # therefore, we have to return the inverse of the hamming loss\n",
    "\n",
    "ga_model = pygad.GA(\n",
    "    gene_type=int,\n",
    "    gene_space=[0,1,2,3,4,5], # TODO should be set from the label space\n",
    "    random_seed=42,\n",
    "    save_best_solutions=False,\n",
    "    fitness_func=model_fitness_func,\n",
    "    allow_duplicate_genes=False, # very important, otherwise we will have duplicate labels in the ordering\n",
    "    num_genes=labels_count,\n",
    "\n",
    "    # set up\n",
    "    num_generations=10,\n",
    "    num_parents_mating=2,\n",
    "    sol_per_pop=4,\n",
    "\n",
    "    # following what the article describes\n",
    "    keep_elitism=1, # also following what the article describes, but we have to double check [TODO]\n",
    "    parent_selection_type=\"rws\", # following what the article describes\n",
    "    # mutation_probability=0.005, # following what the article describes\n",
    "\n",
    "    # TODO let's check how the article defines this\n",
    "    crossover_type=\"scattered\",\n",
    "    mutation_type=\"random\",\n",
    "    mutation_by_replacement=True,\n",
    "    mutation_num_genes=1,\n",
    ")"
   ]
  },
  {
   "cell_type": "code",
   "execution_count": 21,
   "metadata": {},
   "outputs": [
    {
     "name": "stdout",
     "output_type": "stream",
     "text": [
      "testing order: [3 4 2 0 5 1]\n",
      "testing order: [2 5 1 4 3 0]\n",
      "testing order: [5 4 1 3 0 2]\n",
      "testing order: [1 3 4 0 2 5]\n",
      "testing order: [2 1 5 3 0 4]\n",
      "testing order: [2 5 1 4 0 3]\n",
      "testing order: [2 3 1 4 0 5]\n",
      "testing order: [2 1 0 3 4 5]\n",
      "testing order: [2 1 5 0 3 4]\n",
      "testing order: [4 1 5 0 2 3]\n",
      "testing order: [2 1 5 0 4 3]\n",
      "testing order: [1 2 5 0 3 4]\n",
      "testing order: [2 1 3 0 5 4]\n",
      "testing order: [2 3 5 0 1 4]\n",
      "testing order: [2 3 5 0 1 4]\n",
      "testing order: [2 3 0 1 4 5]\n",
      "testing order: [2 0 3 5 1 4]\n",
      "testing order: [2 5 0 3 4 1]\n",
      "testing order: [2 4 0 3 1 5]\n",
      "testing order: [0 1 2 3 4 5]\n",
      "testing order: [2 1 0 5 4 3]\n"
     ]
    }
   ],
   "source": [
    "ga_model.run()"
   ]
  },
  {
   "cell_type": "code",
   "execution_count": 22,
   "metadata": {},
   "outputs": [
    {
     "name": "stdout",
     "output_type": "stream",
     "text": [
      "testing order: [2 1 0 5 4 3]\n",
      "Parameters of the best solution : [0 1 2 3 4 5]\n",
      "Fitness value of the best solution = 11.006134969325153\n"
     ]
    }
   ],
   "source": [
    "solution, solution_fitness, solution_idx = ga_model.best_solution()\n",
    "print(\"Parameters of the best solution : {solution}\".format(solution=solution))\n",
    "print(\"Fitness value of the best solution = {solution_fitness}\".format(solution_fitness=solution_fitness))"
   ]
  },
  {
   "cell_type": "code",
   "execution_count": 23,
   "metadata": {},
   "outputs": [
    {
     "name": "stdout",
     "output_type": "stream",
     "text": [
      "testing order: [2, 1, 0, 5, 4, 3]\n"
     ]
    },
    {
     "data": {
      "text/plain": [
       "0.2467948717948718"
      ]
     },
     "execution_count": 23,
     "metadata": {},
     "output_type": "execute_result"
    }
   ],
   "source": [
    "test_ordering([2, 1, 0, 5, 4, 3])"
   ]
  },
  {
   "cell_type": "code",
   "execution_count": 24,
   "metadata": {},
   "outputs": [
    {
     "name": "stdout",
     "output_type": "stream",
     "text": [
      "testing order: [0, 1, 2, 3, 4, 5]\n"
     ]
    },
    {
     "data": {
      "text/plain": [
       "0.09085841694537347"
      ]
     },
     "execution_count": 24,
     "metadata": {},
     "output_type": "execute_result"
    }
   ],
   "source": [
    "test_ordering([0, 1, 2, 3, 4, 5])"
   ]
  }
 ],
 "metadata": {
  "kernelspec": {
   "display_name": "Python 3",
   "language": "python",
   "name": "python3"
  },
  "language_info": {
   "codemirror_mode": {
    "name": "ipython",
    "version": 3
   },
   "file_extension": ".py",
   "mimetype": "text/x-python",
   "name": "python",
   "nbconvert_exporter": "python",
   "pygments_lexer": "ipython3",
   "version": "3.9.7"
  }
 },
 "nbformat": 4,
 "nbformat_minor": 2
}
